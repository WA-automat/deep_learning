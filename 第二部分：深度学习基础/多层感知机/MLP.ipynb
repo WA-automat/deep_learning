{
 "cells": [
  {
   "cell_type": "markdown",
   "metadata": {
    "collapsed": true,
    "pycharm": {
     "name": "#%% md\n"
    }
   },
   "source": [
    "# 多层感知机MLP\n",
    "\n",
    "可以在网络中加入一个或多个隐藏层来克服线性模型的限制，使其能处理更普遍的函数关系类型。（最简单的方法是将许多全连接层堆叠在一起）\n",
    "\n",
    "为了防止多层感知机退化成线性的，我们可以对每个隐藏单元应用一个非线性的激活函数$\\sigma$\n",
    "\n",
    "**激活函数**（$activation \\ function$）通过计算加权和并加上偏置来确定神经元是否应该被激活，它们将输⼊信号\n",
    "转换为输出的可微运算。\n",
    "\n",
    "常见的激活函数有：$Relu$函数，$Sigmoid$函数，$tanh$函数\n",
    "\n",
    "其中：\n",
    "$$\n",
    "Relu(x) = max(x, 0)\n",
    "$$\n",
    "\n",
    "$$\n",
    "Sigmoid(x) = \\frac{1}{1+e^{-x}}\n",
    "$$\n",
    "\n",
    "$$\n",
    "tanh(x) = \\frac{1-e^{-2x}}{1+e^{-2x}}\n",
    "$$"
   ]
  },
  {
   "cell_type": "markdown",
   "source": [
    "为使得某些负值属性也能够通过$Relu$函数，该函数产生了许多变式，如：参数化$Relu$（$pRelu$函数）：\n",
    "$$\n",
    "pRelu(x)=max(x,0)+\\alpha min(x,0)\n",
    "$$"
   ],
   "metadata": {
    "collapsed": false,
    "pycharm": {
     "name": "#%% md\n"
    }
   }
  },
  {
   "cell_type": "markdown",
   "source": [
    "下面给出一个多层感知机的简单$pytorch$实现，这里就只给出类定义了。\n",
    "\n",
    "由三个全连接层实现，输入层有$1024$个结点，隐藏层分别有$256$与$64$个隐藏结点，输出层有$4$个结点"
   ],
   "metadata": {
    "collapsed": false
   }
  },
  {
   "cell_type": "code",
   "execution_count": 1,
   "outputs": [],
   "source": [
    "from torch import nn\n",
    "import torch.nn.functional as F\n",
    "\n",
    "\n",
    "class Net(nn.Module):\n",
    "    def __init__(self):\n",
    "        super(Net, self).__init__()\n",
    "        self.fc1 = nn.Linear(1024, 256)\n",
    "        self.fc2 = nn.Linear(256, 64)\n",
    "        self.fc3 = nn.Linear(64, 4)\n",
    "\n",
    "    def forward(self, x):\n",
    "        x = F.relu(self.fc1(x))\n",
    "        x = F.relu(self.fc2(x))\n",
    "        x = self.fc3(x)\n",
    "        return x"
   ],
   "metadata": {
    "collapsed": false,
    "pycharm": {
     "name": "#%%\n"
    }
   }
  }
 ],
 "metadata": {
  "kernelspec": {
   "display_name": "Python 3",
   "language": "python",
   "name": "python3"
  },
  "language_info": {
   "codemirror_mode": {
    "name": "ipython",
    "version": 2
   },
   "file_extension": ".py",
   "mimetype": "text/x-python",
   "name": "python",
   "nbconvert_exporter": "python",
   "pygments_lexer": "ipython2",
   "version": "2.7.6"
  }
 },
 "nbformat": 4,
 "nbformat_minor": 0
}