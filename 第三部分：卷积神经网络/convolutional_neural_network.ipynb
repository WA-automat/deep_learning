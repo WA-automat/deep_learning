{
 "cells": [
  {
   "cell_type": "markdown",
   "source": [
    "# 卷积神经网络"
   ],
   "metadata": {
    "collapsed": false
   }
  },
  {
   "cell_type": "markdown",
   "source": [
    "## 从全连接层到卷积\n",
    "\n",
    "卷积神经网络基于空间的不变性这一概念系统化，从而基于这个模型使用较少的参数来学习有用的表示。\n",
    "\n",
    "1. 平移不变性：对不同位置具有相似的反应；\n",
    "2. 局部性：只探索输入图像中的局部区域。"
   ],
   "metadata": {
    "collapsed": false
   }
  },
  {
   "cell_type": "markdown",
   "source": [
    "$$\n",
    "[H]_{i,j}\\\\\n",
    "=[U]_{i,j}+\\Sigma_{k}\\Sigma_{l}[W]_{i,j,k,l}[X]_{k,l}\\\\\n",
    "=[U]_{i,j}+\\Sigma_{k}\\Sigma_{l}[V]_{i,j,a,b}[X]_{i+a,j+b}\n",
    "$$"
   ],
   "metadata": {
    "collapsed": false
   }
  },
  {
   "cell_type": "markdown",
   "source": [
    "**平移不变性**：\n",
    "\n",
    "$$\n",
    "[H]_{i,j}=u+\\Sigma_a\\Sigma_b[V]_{a,b}[X]_{i+a,j+b}\n",
    "$$\n",
    "\n",
    "**局部性**：\n",
    "\n",
    "$$\n",
    "[H]_{i,j}=u+\\Sigma_{a=-\\Delta}^{\\Delta}\\Sigma_{b=-\\Delta}^{\\Delta}[V]_{a,b}[X]_{i+a,j+b}\n",
    "$$\n",
    "\n",
    "其中，$V$被称为卷积核。"
   ],
   "metadata": {
    "collapsed": false
   }
  },
  {
   "cell_type": "markdown",
   "source": [
    "## 卷积\n",
    "\n",
    "两个函数$f$，$g$的卷积被定义为：\n",
    "\n",
    "$$\n",
    "(f*g)(x)=\\int f(z)g(x-z)dz\n",
    "$$\n",
    "\n",
    "对于二维张量，卷积为：\n",
    "\n",
    "$$\n",
    "(f*g)(i,j)=\\Sigma_a\\Sigma_bf(a,b)g(i-a,j-b)\n",
    "$$"
   ],
   "metadata": {
    "collapsed": false
   }
  },
  {
   "cell_type": "markdown",
   "source": [
    "卷积层的本质其实是互相关运算，是通过输入张量与核张量通过互相关运算生成输出张量。\n",
    "\n",
    "输出大小等于输入大小$n_h \\times n_w$减去卷积核大小$k_h \\times k_w$，即：$(n_h - k_h + 1) \\times (n_w - k_w + 1)$\n",
    "\n",
    "输出的卷积层有时被称为特征映射，因为它可以被视为一个输入映射到下一层的空间维度的转换器。在卷积神经网络中，对于某一层的任意元素$x$，其感受野是指在前向传播期间，可能影响$x$计算的所有元素。"
   ],
   "metadata": {
    "collapsed": false
   }
  },
  {
   "cell_type": "markdown",
   "source": [
    "## 图像\n",
    "\n",
    "图像本质其实并不是一个二维张量，而是一个由高度、宽度、颜色组成的三维张量。\n",
    "\n",
    "**填充**：处理边缘像素丢失的方法\n",
    "\n",
    "在输入图像的边缘填充元素（通常我们的填充元素是0），防止在经过多次连续的卷积时，边缘丢失的像素数过多。\n",
    "\n",
    "**步幅**：高效计算的方法\n",
    "\n",
    "在计算互相关时，卷积窗口从输入张量的左上角开始向下、向右滑动。"
   ],
   "metadata": {
    "collapsed": false
   }
  },
  {
   "cell_type": "markdown",
   "source": [
    "## 多输入多输出通道\n",
    "\n",
    "输入包含多个通道时，可以构造一个具有与输入数据相同输入通道数的卷积核，以便与输入数据进行互相关运算。\n",
    "\n",
    "希望输出包含多个通道时，可以设置多组卷积核，一组卷积核得到的结果作为一个输出通道\n",
    "\n",
    "**$1 \\times 1$卷积核**：本质上是在通道之间的计算"
   ],
   "metadata": {
    "collapsed": false,
    "pycharm": {
     "name": "#%% md\n"
    }
   }
  },
  {
   "cell_type": "markdown",
   "source": [
    "## 汇聚层\n",
    "\n",
    "### 最大汇聚与平均汇聚\n",
    "\n",
    "最大汇聚：计算汇聚窗口中的最大值\n",
    "\n",
    "平均汇聚：计算汇聚窗口中的平均值\n",
    "\n",
    "同样的，汇聚层也可以调整填充和步幅"
   ],
   "metadata": {
    "collapsed": false,
    "pycharm": {
     "name": "#%% md\n"
    }
   }
  },
  {
   "cell_type": "code",
   "execution_count": null,
   "outputs": [],
   "source": [],
   "metadata": {
    "collapsed": false,
    "pycharm": {
     "name": "#%%\n"
    }
   }
  }
 ],
 "metadata": {
  "kernelspec": {
   "display_name": "Python 3",
   "language": "python",
   "name": "python3"
  },
  "language_info": {
   "codemirror_mode": {
    "name": "ipython",
    "version": 2
   },
   "file_extension": ".py",
   "mimetype": "text/x-python",
   "name": "python",
   "nbconvert_exporter": "python",
   "pygments_lexer": "ipython2",
   "version": "2.7.6"
  }
 },
 "nbformat": 4,
 "nbformat_minor": 0
}